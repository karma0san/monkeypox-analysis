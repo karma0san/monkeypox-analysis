{
 "cells": [
  {
   "cell_type": "code",
   "execution_count": 2,
   "id": "7877f19c-bb60-4a29-a6ac-14f5007b59ba",
   "metadata": {
    "tags": []
   },
   "outputs": [],
   "source": [
    "# Import necessary libraries\n",
    "import pandas as pd\n",
    "import numpy as np\n",
    "import matplotlib.pyplot as plt\n",
    "import seaborn as sns\n",
    "from sklearn.model_selection import train_test_split, GridSearchCV\n",
    "from sklearn.preprocessing import StandardScaler, LabelEncoder\n",
    "from sklearn.metrics import accuracy_score, classification_report, confusion_matrix\n",
    "from sklearn.ensemble import RandomForestClassifier\n",
    "from sklearn.svm import SVC\n",
    "from sklearn.neighbors import KNeighborsClassifier\n",
    "from sklearn.linear_model import LogisticRegression\n",
    "from sklearn.tree import DecisionTreeClassifier\n",
    "import warnings\n",
    "\n",
    "# Suppress warnings\n",
    "warnings.filterwarnings('ignore')"
   ]
  },
  {
   "cell_type": "code",
   "execution_count": 3,
   "id": "cc6d38ff-273c-4052-961b-28b5b05f03c6",
   "metadata": {
    "tags": []
   },
   "outputs": [],
   "source": [
    "# Load the dataset\n",
    "df = pd.read_csv('monkeypox.csv')"
   ]
  },
  {
   "cell_type": "code",
   "execution_count": 4,
   "id": "e08e0a1f-dac2-4027-9716-fd19d3570cb6",
   "metadata": {
    "tags": []
   },
   "outputs": [
    {
     "data": {
      "text/html": [
       "<div>\n",
       "<style scoped>\n",
       "    .dataframe tbody tr th:only-of-type {\n",
       "        vertical-align: middle;\n",
       "    }\n",
       "\n",
       "    .dataframe tbody tr th {\n",
       "        vertical-align: top;\n",
       "    }\n",
       "\n",
       "    .dataframe thead th {\n",
       "        text-align: right;\n",
       "    }\n",
       "</style>\n",
       "<table border=\"1\" class=\"dataframe\">\n",
       "  <thead>\n",
       "    <tr style=\"text-align: right;\">\n",
       "      <th></th>\n",
       "      <th>Patient_ID</th>\n",
       "      <th>Systemic Illness</th>\n",
       "      <th>Rectal Pain</th>\n",
       "      <th>Sore Throat</th>\n",
       "      <th>Penile Oedema</th>\n",
       "      <th>Oral Lesions</th>\n",
       "      <th>Solitary Lesion</th>\n",
       "      <th>Swollen Tonsils</th>\n",
       "      <th>HIV Infection</th>\n",
       "      <th>Sexually Transmitted Infection</th>\n",
       "      <th>MonkeyPox</th>\n",
       "    </tr>\n",
       "  </thead>\n",
       "  <tbody>\n",
       "    <tr>\n",
       "      <th>0</th>\n",
       "      <td>P0</td>\n",
       "      <td>NaN</td>\n",
       "      <td>False</td>\n",
       "      <td>True</td>\n",
       "      <td>True</td>\n",
       "      <td>True</td>\n",
       "      <td>False</td>\n",
       "      <td>True</td>\n",
       "      <td>False</td>\n",
       "      <td>False</td>\n",
       "      <td>Negative</td>\n",
       "    </tr>\n",
       "    <tr>\n",
       "      <th>1</th>\n",
       "      <td>P1</td>\n",
       "      <td>Fever</td>\n",
       "      <td>True</td>\n",
       "      <td>False</td>\n",
       "      <td>True</td>\n",
       "      <td>True</td>\n",
       "      <td>False</td>\n",
       "      <td>False</td>\n",
       "      <td>True</td>\n",
       "      <td>False</td>\n",
       "      <td>Positive</td>\n",
       "    </tr>\n",
       "    <tr>\n",
       "      <th>2</th>\n",
       "      <td>P2</td>\n",
       "      <td>Fever</td>\n",
       "      <td>False</td>\n",
       "      <td>True</td>\n",
       "      <td>True</td>\n",
       "      <td>False</td>\n",
       "      <td>False</td>\n",
       "      <td>False</td>\n",
       "      <td>True</td>\n",
       "      <td>False</td>\n",
       "      <td>Positive</td>\n",
       "    </tr>\n",
       "    <tr>\n",
       "      <th>3</th>\n",
       "      <td>P3</td>\n",
       "      <td>NaN</td>\n",
       "      <td>True</td>\n",
       "      <td>False</td>\n",
       "      <td>False</td>\n",
       "      <td>False</td>\n",
       "      <td>True</td>\n",
       "      <td>True</td>\n",
       "      <td>True</td>\n",
       "      <td>False</td>\n",
       "      <td>Positive</td>\n",
       "    </tr>\n",
       "    <tr>\n",
       "      <th>4</th>\n",
       "      <td>P4</td>\n",
       "      <td>Swollen Lymph Nodes</td>\n",
       "      <td>True</td>\n",
       "      <td>True</td>\n",
       "      <td>True</td>\n",
       "      <td>False</td>\n",
       "      <td>False</td>\n",
       "      <td>True</td>\n",
       "      <td>True</td>\n",
       "      <td>False</td>\n",
       "      <td>Positive</td>\n",
       "    </tr>\n",
       "  </tbody>\n",
       "</table>\n",
       "</div>"
      ],
      "text/plain": [
       "  Patient_ID     Systemic Illness  Rectal Pain  Sore Throat  Penile Oedema  \\\n",
       "0         P0                  NaN        False         True           True   \n",
       "1         P1                Fever         True        False           True   \n",
       "2         P2                Fever        False         True           True   \n",
       "3         P3                  NaN         True        False          False   \n",
       "4         P4  Swollen Lymph Nodes         True         True           True   \n",
       "\n",
       "   Oral Lesions  Solitary Lesion  Swollen Tonsils  HIV Infection  \\\n",
       "0          True            False             True          False   \n",
       "1          True            False            False           True   \n",
       "2         False            False            False           True   \n",
       "3         False             True             True           True   \n",
       "4         False            False             True           True   \n",
       "\n",
       "   Sexually Transmitted Infection MonkeyPox  \n",
       "0                           False  Negative  \n",
       "1                           False  Positive  \n",
       "2                           False  Positive  \n",
       "3                           False  Positive  \n",
       "4                           False  Positive  "
      ]
     },
     "execution_count": 4,
     "metadata": {},
     "output_type": "execute_result"
    }
   ],
   "source": [
    "# Display the first few rows of the dataframe\n",
    "df.head()"
   ]
  },
  {
   "cell_type": "code",
   "execution_count": 5,
   "id": "9104d997-bc24-424e-9f8f-3d45e968f7bf",
   "metadata": {
    "tags": []
   },
   "outputs": [
    {
     "name": "stdout",
     "output_type": "stream",
     "text": [
      "Shape of the dataset:\n",
      " (25000, 11)\n",
      "<class 'pandas.core.frame.DataFrame'>\n",
      "RangeIndex: 25000 entries, 0 to 24999\n",
      "Data columns (total 11 columns):\n",
      " #   Column                          Non-Null Count  Dtype \n",
      "---  ------                          --------------  ----- \n",
      " 0   Patient_ID                      25000 non-null  object\n",
      " 1   Systemic Illness                18784 non-null  object\n",
      " 2   Rectal Pain                     25000 non-null  bool  \n",
      " 3   Sore Throat                     25000 non-null  bool  \n",
      " 4   Penile Oedema                   25000 non-null  bool  \n",
      " 5   Oral Lesions                    25000 non-null  bool  \n",
      " 6   Solitary Lesion                 25000 non-null  bool  \n",
      " 7   Swollen Tonsils                 25000 non-null  bool  \n",
      " 8   HIV Infection                   25000 non-null  bool  \n",
      " 9   Sexually Transmitted Infection  25000 non-null  bool  \n",
      " 10  MonkeyPox                       25000 non-null  object\n",
      "dtypes: bool(8), object(3)\n",
      "memory usage: 781.4+ KB\n",
      "Info of the dataset:\n",
      " None\n",
      "Summary statistics:\n",
      "        Patient_ID Systemic Illness Rectal Pain Sore Throat Penile Oedema  \\\n",
      "count       25000            18784       25000       25000         25000   \n",
      "unique      25000                3           2           2             2   \n",
      "top            P0            Fever       False        True          True   \n",
      "freq            1             6382       12655       12554         12612   \n",
      "\n",
      "       Oral Lesions Solitary Lesion Swollen Tonsils HIV Infection  \\\n",
      "count         25000           25000           25000         25000   \n",
      "unique            2               2               2             2   \n",
      "top           False            True            True          True   \n",
      "freq          12514           12527           12533         12584   \n",
      "\n",
      "       Sexually Transmitted Infection MonkeyPox  \n",
      "count                           25000     25000  \n",
      "unique                              2         2  \n",
      "top                             False  Positive  \n",
      "freq                            12554     15909  \n",
      "Checking for missing values:\n",
      " Patient_ID                           0\n",
      "Systemic Illness                  6216\n",
      "Rectal Pain                          0\n",
      "Sore Throat                          0\n",
      "Penile Oedema                        0\n",
      "Oral Lesions                         0\n",
      "Solitary Lesion                      0\n",
      "Swollen Tonsils                      0\n",
      "HIV Infection                        0\n",
      "Sexually Transmitted Infection       0\n",
      "MonkeyPox                            0\n",
      "dtype: int64\n"
     ]
    }
   ],
   "source": [
    "# Explore the dataset\n",
    "print(\"Shape of the dataset:\\n\", df.shape)\n",
    "print(\"Info of the dataset:\\n\", df.info())\n",
    "print(\"Summary statistics:\\n\", df.describe())\n",
    "print(\"Checking for missing values:\\n\", df.isnull().sum())"
   ]
  },
  {
   "cell_type": "code",
   "execution_count": 6,
   "id": "efa44db4-81c9-4c39-99f9-238f9f263c59",
   "metadata": {
    "tags": []
   },
   "outputs": [],
   "source": [
    "# Handle missing values if any (example: dropping missing values)\n",
    "df.dropna(inplace=True)"
   ]
  },
  {
   "cell_type": "code",
   "execution_count": 7,
   "id": "769666e1-ca21-4a4a-ba2b-dc9ab4773c23",
   "metadata": {
    "tags": []
   },
   "outputs": [
    {
     "data": {
      "text/plain": [
       "(18784, 11)"
      ]
     },
     "execution_count": 7,
     "metadata": {},
     "output_type": "execute_result"
    }
   ],
   "source": [
    "df.shape"
   ]
  },
  {
   "cell_type": "code",
   "execution_count": 8,
   "id": "b75b42cd-fe3d-424f-8542-82c1ed1873de",
   "metadata": {
    "tags": []
   },
   "outputs": [],
   "source": [
    "df = df.drop('Patient_ID', axis = 1)"
   ]
  },
  {
   "cell_type": "code",
   "execution_count": 9,
   "id": "838b6758-9f36-4609-8f51-d222d8c2f0a4",
   "metadata": {
    "tags": []
   },
   "outputs": [],
   "source": [
    "# Encode categorical variables if any\n",
    "# Assuming 'target' is the name of the target column and other categorical columns need encoding\n",
    "label_encoders = {}\n",
    "for column in df.select_dtypes(include=['object', 'bool']).columns:\n",
    "    label_encoders[column] = LabelEncoder()\n",
    "    df[column] = label_encoders[column].fit_transform(df[column])"
   ]
  },
  {
   "cell_type": "code",
   "execution_count": 10,
   "id": "2655b53e-4011-4488-a731-ce12dd2803c2",
   "metadata": {
    "tags": []
   },
   "outputs": [
    {
     "data": {
      "text/html": [
       "<div>\n",
       "<style scoped>\n",
       "    .dataframe tbody tr th:only-of-type {\n",
       "        vertical-align: middle;\n",
       "    }\n",
       "\n",
       "    .dataframe tbody tr th {\n",
       "        vertical-align: top;\n",
       "    }\n",
       "\n",
       "    .dataframe thead th {\n",
       "        text-align: right;\n",
       "    }\n",
       "</style>\n",
       "<table border=\"1\" class=\"dataframe\">\n",
       "  <thead>\n",
       "    <tr style=\"text-align: right;\">\n",
       "      <th></th>\n",
       "      <th>Systemic Illness</th>\n",
       "      <th>Rectal Pain</th>\n",
       "      <th>Sore Throat</th>\n",
       "      <th>Penile Oedema</th>\n",
       "      <th>Oral Lesions</th>\n",
       "      <th>Solitary Lesion</th>\n",
       "      <th>Swollen Tonsils</th>\n",
       "      <th>HIV Infection</th>\n",
       "      <th>Sexually Transmitted Infection</th>\n",
       "      <th>MonkeyPox</th>\n",
       "    </tr>\n",
       "  </thead>\n",
       "  <tbody>\n",
       "    <tr>\n",
       "      <th>1</th>\n",
       "      <td>0</td>\n",
       "      <td>1</td>\n",
       "      <td>0</td>\n",
       "      <td>1</td>\n",
       "      <td>1</td>\n",
       "      <td>0</td>\n",
       "      <td>0</td>\n",
       "      <td>1</td>\n",
       "      <td>0</td>\n",
       "      <td>1</td>\n",
       "    </tr>\n",
       "    <tr>\n",
       "      <th>2</th>\n",
       "      <td>0</td>\n",
       "      <td>0</td>\n",
       "      <td>1</td>\n",
       "      <td>1</td>\n",
       "      <td>0</td>\n",
       "      <td>0</td>\n",
       "      <td>0</td>\n",
       "      <td>1</td>\n",
       "      <td>0</td>\n",
       "      <td>1</td>\n",
       "    </tr>\n",
       "    <tr>\n",
       "      <th>4</th>\n",
       "      <td>2</td>\n",
       "      <td>1</td>\n",
       "      <td>1</td>\n",
       "      <td>1</td>\n",
       "      <td>0</td>\n",
       "      <td>0</td>\n",
       "      <td>1</td>\n",
       "      <td>1</td>\n",
       "      <td>0</td>\n",
       "      <td>1</td>\n",
       "    </tr>\n",
       "    <tr>\n",
       "      <th>5</th>\n",
       "      <td>2</td>\n",
       "      <td>0</td>\n",
       "      <td>1</td>\n",
       "      <td>0</td>\n",
       "      <td>0</td>\n",
       "      <td>0</td>\n",
       "      <td>0</td>\n",
       "      <td>0</td>\n",
       "      <td>0</td>\n",
       "      <td>0</td>\n",
       "    </tr>\n",
       "    <tr>\n",
       "      <th>6</th>\n",
       "      <td>0</td>\n",
       "      <td>0</td>\n",
       "      <td>1</td>\n",
       "      <td>0</td>\n",
       "      <td>0</td>\n",
       "      <td>0</td>\n",
       "      <td>0</td>\n",
       "      <td>1</td>\n",
       "      <td>0</td>\n",
       "      <td>1</td>\n",
       "    </tr>\n",
       "  </tbody>\n",
       "</table>\n",
       "</div>"
      ],
      "text/plain": [
       "   Systemic Illness  Rectal Pain  Sore Throat  Penile Oedema  Oral Lesions  \\\n",
       "1                 0            1            0              1             1   \n",
       "2                 0            0            1              1             0   \n",
       "4                 2            1            1              1             0   \n",
       "5                 2            0            1              0             0   \n",
       "6                 0            0            1              0             0   \n",
       "\n",
       "   Solitary Lesion  Swollen Tonsils  HIV Infection  \\\n",
       "1                0                0              1   \n",
       "2                0                0              1   \n",
       "4                0                1              1   \n",
       "5                0                0              0   \n",
       "6                0                0              1   \n",
       "\n",
       "   Sexually Transmitted Infection  MonkeyPox  \n",
       "1                               0          1  \n",
       "2                               0          1  \n",
       "4                               0          1  \n",
       "5                               0          0  \n",
       "6                               0          1  "
      ]
     },
     "execution_count": 10,
     "metadata": {},
     "output_type": "execute_result"
    }
   ],
   "source": [
    "df.head()"
   ]
  },
  {
   "cell_type": "code",
   "execution_count": 11,
   "id": "7eb46d85-69b7-4d22-8461-79171644a657",
   "metadata": {
    "tags": []
   },
   "outputs": [],
   "source": [
    "X = df.drop('MonkeyPox', axis = 1)\n",
    "y = df['MonkeyPox']"
   ]
  },
  {
   "cell_type": "code",
   "execution_count": 12,
   "id": "624dec27-36c3-4ef8-baed-f73817ef1a27",
   "metadata": {
    "tags": []
   },
   "outputs": [],
   "source": [
    "# Split the dataset into training and testing sets\n",
    "X_train, X_test, y_train, y_test = train_test_split(X, y, test_size=0.2, random_state=42)"
   ]
  },
  {
   "cell_type": "code",
   "execution_count": 13,
   "id": "ce140668-91d9-4823-8d1f-a944e9524432",
   "metadata": {
    "tags": []
   },
   "outputs": [],
   "source": [
    "# Function to train and evaluate models\n",
    "def evaluate_model(model, X_train, y_train, X_test, y_test):\n",
    "    model.fit(X_train, y_train)\n",
    "    y_pred = model.predict(X_test)\n",
    "    accuracy = accuracy_score(y_test, y_pred)\n",
    "    print(f\"Accuracy: {accuracy}\")\n",
    "    print(\"Classification Report:\\n\", classification_report(y_test, y_pred))\n",
    "    print(\"Confusion Matrix:\\n\", confusion_matrix(y_test, y_pred))\n",
    "    return accuracy"
   ]
  },
  {
   "cell_type": "code",
   "execution_count": 14,
   "id": "49727feb-4978-4d8e-bd62-d9c7535ee5e2",
   "metadata": {
    "tags": []
   },
   "outputs": [],
   "source": [
    "# Initialize models\n",
    "models = {\n",
    "    'Random Forest': RandomForestClassifier(),\n",
    "    'Support Vector Machine': SVC(),\n",
    "    'K-Nearest Neighbors': KNeighborsClassifier(),\n",
    "    'Logistic Regression': LogisticRegression(),\n",
    "    'Decision Tree': DecisionTreeClassifier()\n",
    "}"
   ]
  },
  {
   "cell_type": "code",
   "execution_count": 15,
   "id": "beeeb8c8-74dc-480d-8b4c-713b00a0ab2b",
   "metadata": {
    "tags": []
   },
   "outputs": [
    {
     "name": "stdout",
     "output_type": "stream",
     "text": [
      "Evaluating Random Forest\n",
      "Accuracy: 0.6888474846952356\n",
      "Classification Report:\n",
      "               precision    recall  f1-score   support\n",
      "\n",
      "           0       0.50      0.30      0.37      1173\n",
      "           1       0.73      0.87      0.79      2584\n",
      "\n",
      "    accuracy                           0.69      3757\n",
      "   macro avg       0.62      0.58      0.58      3757\n",
      "weighted avg       0.66      0.69      0.66      3757\n",
      "\n",
      "Confusion Matrix:\n",
      " [[ 348  825]\n",
      " [ 344 2240]]\n",
      "Evaluating Support Vector Machine\n",
      "Accuracy: 0.7104072398190046\n",
      "Classification Report:\n",
      "               precision    recall  f1-score   support\n",
      "\n",
      "           0       0.60      0.22      0.33      1173\n",
      "           1       0.73      0.93      0.82      2584\n",
      "\n",
      "    accuracy                           0.71      3757\n",
      "   macro avg       0.66      0.58      0.57      3757\n",
      "weighted avg       0.69      0.71      0.66      3757\n",
      "\n",
      "Confusion Matrix:\n",
      " [[ 263  910]\n",
      " [ 178 2406]]\n",
      "Evaluating K-Nearest Neighbors\n"
     ]
    }
   ],
   "source": [
    "# Evaluate each model\n",
    "model_accuracies = {}\n",
    "for model_name, model in models.items():\n",
    "    print(f\"Evaluating {model_name}\")\n",
    "    accuracy = evaluate_model(model, X_train, y_train, X_test, y_test)\n",
    "    model_accuracies[model_name] = accuracy"
   ]
  },
  {
   "cell_type": "code",
   "execution_count": null,
   "id": "50680196-12b8-4ac2-91ce-d26590cac953",
   "metadata": {
    "tags": []
   },
   "outputs": [
    {
     "name": "stdout",
     "output_type": "stream",
     "text": [
      "Model Accuracies: {'Random Forest': 0.6909768432259782, 'Support Vector Machine': 0.7104072398190046, 'K-Nearest Neighbors': 0.660367314346553, 'Logistic Regression': 0.7000266169816343, 'Decision Tree': 0.6861857865318073}\n"
     ]
    }
   ],
   "source": [
    "# Display model accuracies\n",
    "print(\"Model Accuracies:\", model_accuracies)"
   ]
  },
  {
   "cell_type": "code",
   "execution_count": null,
   "id": "177decb0-3fb4-47db-8104-7de92582bb73",
   "metadata": {
    "tags": []
   },
   "outputs": [],
   "source": [
    "# Hyperparameter tuning for the best model\n",
    "best_model = SVC()"
   ]
  },
  {
   "cell_type": "code",
   "execution_count": null,
   "id": "4c73d6cc-6549-4c8b-a0cc-70cea49b62e3",
   "metadata": {
    "tags": []
   },
   "outputs": [],
   "source": [
    "# Define hyperparameters for tuning\n",
    "param_grid = {\n",
    "    'C': [0.1, 1, 10, 100, 1000],\n",
    "    'gamma': [1, 0.1, 0.01, 0.001, 0.0001],\n",
    "    'kernel': ['linear', 'poly', 'rbf', 'sigmoid']\n",
    "}"
   ]
  },
  {
   "cell_type": "code",
   "execution_count": null,
   "id": "b69b043f-4c5c-4489-8baf-a8a71fbf2112",
   "metadata": {
    "tags": []
   },
   "outputs": [
    {
     "name": "stdout",
     "output_type": "stream",
     "text": [
      "Fitting 5 folds for each of 100 candidates, totalling 500 fits\n"
     ]
    },
    {
     "name": "stdout",
     "output_type": "stream",
     "text": [
      "[CV] END ......................C=0.1, gamma=1, kernel=linear; total time=   4.5s\n",
      "[CV] END ......................C=0.1, gamma=1, kernel=linear; total time=   4.6s\n",
      "[CV] END ......................C=0.1, gamma=1, kernel=linear; total time=   4.0s\n",
      "[CV] END ......................C=0.1, gamma=1, kernel=linear; total time=   4.1s\n",
      "[CV] END ......................C=0.1, gamma=1, kernel=linear; total time=   3.9s\n",
      "[CV] END ........................C=0.1, gamma=1, kernel=poly; total time=  37.2s\n",
      "[CV] END ........................C=0.1, gamma=1, kernel=poly; total time=  46.5s\n",
      "[CV] END ........................C=0.1, gamma=1, kernel=poly; total time=  41.2s\n",
      "[CV] END ........................C=0.1, gamma=1, kernel=poly; total time=  56.3s\n",
      "[CV] END .........................C=0.1, gamma=1, kernel=rbf; total time=   7.4s\n",
      "[CV] END .........................C=0.1, gamma=1, kernel=rbf; total time=   7.2s\n",
      "[CV] END .........................C=0.1, gamma=1, kernel=rbf; total time=   7.0s\n",
      "[CV] END .........................C=0.1, gamma=1, kernel=rbf; total time=   7.2s\n",
      "[CV] END .........................C=0.1, gamma=1, kernel=rbf; total time=   7.3s\n",
      "[CV] END .....................C=0.1, gamma=1, kernel=sigmoid; total time=  10.7s\n",
      "[CV] END ........................C=0.1, gamma=1, kernel=poly; total time=  58.6s\n",
      "[CV] END .....................C=0.1, gamma=1, kernel=sigmoid; total time=  10.5s\n",
      "[CV] END .....................C=0.1, gamma=1, kernel=sigmoid; total time=  10.3s\n",
      "[CV] END .....................C=0.1, gamma=1, kernel=sigmoid; total time=  10.5s\n",
      "[CV] END ....................C=0.1, gamma=0.1, kernel=linear; total time=   3.6s\n",
      "[CV] END ....................C=0.1, gamma=0.1, kernel=linear; total time=   3.6s\n",
      "[CV] END .....................C=0.1, gamma=1, kernel=sigmoid; total time=   9.9s\n",
      "[CV] END ....................C=0.1, gamma=0.1, kernel=linear; total time=   3.7s\n",
      "[CV] END ....................C=0.1, gamma=0.1, kernel=linear; total time=   3.9s\n",
      "[CV] END ....................C=0.1, gamma=0.1, kernel=linear; total time=   3.9s\n",
      "[CV] END ......................C=0.1, gamma=0.1, kernel=poly; total time=   5.6s\n",
      "[CV] END ......................C=0.1, gamma=0.1, kernel=poly; total time=   5.7s\n",
      "[CV] END ......................C=0.1, gamma=0.1, kernel=poly; total time=   5.7s\n",
      "[CV] END ......................C=0.1, gamma=0.1, kernel=poly; total time=   5.3s\n",
      "[CV] END ......................C=0.1, gamma=0.1, kernel=poly; total time=   5.6s\n",
      "[CV] END .......................C=0.1, gamma=0.1, kernel=rbf; total time=   8.3s\n",
      "[CV] END .......................C=0.1, gamma=0.1, kernel=rbf; total time=   8.4s\n",
      "[CV] END .......................C=0.1, gamma=0.1, kernel=rbf; total time=   8.6s\n",
      "[CV] END .......................C=0.1, gamma=0.1, kernel=rbf; total time=   8.3s\n",
      "[CV] END .......................C=0.1, gamma=0.1, kernel=rbf; total time=   8.2s\n",
      "[CV] END ...................C=0.1, gamma=0.1, kernel=sigmoid; total time=  13.0s\n",
      "[CV] END ...................C=0.1, gamma=0.1, kernel=sigmoid; total time=  12.7s\n",
      "[CV] END ...................C=0.1, gamma=0.1, kernel=sigmoid; total time=  12.7s\n",
      "[CV] END ...................C=0.1, gamma=0.1, kernel=sigmoid; total time=  12.5s\n",
      "[CV] END ...................C=0.1, gamma=0.01, kernel=linear; total time=   3.7s\n",
      "[CV] END ...................C=0.1, gamma=0.01, kernel=linear; total time=   3.7s\n",
      "[CV] END ...................C=0.1, gamma=0.1, kernel=sigmoid; total time=  12.7s\n",
      "[CV] END ...................C=0.1, gamma=0.01, kernel=linear; total time=   3.8s\n",
      "[CV] END ...................C=0.1, gamma=0.01, kernel=linear; total time=   3.7s\n",
      "[CV] END ...................C=0.1, gamma=0.01, kernel=linear; total time=   4.0s\n",
      "[CV] END .....................C=0.1, gamma=0.01, kernel=poly; total time=   4.5s\n",
      "[CV] END .....................C=0.1, gamma=0.01, kernel=poly; total time=   4.4s\n",
      "[CV] END .....................C=0.1, gamma=0.01, kernel=poly; total time=   4.2s\n",
      "[CV] END .....................C=0.1, gamma=0.01, kernel=poly; total time=   4.2s\n",
      "[CV] END .....................C=0.1, gamma=0.01, kernel=poly; total time=   4.4s\n",
      "[CV] END ......................C=0.1, gamma=0.01, kernel=rbf; total time=   7.9s\n",
      "[CV] END ......................C=0.1, gamma=0.01, kernel=rbf; total time=   7.8s\n",
      "[CV] END ......................C=0.1, gamma=0.01, kernel=rbf; total time=   7.9s\n",
      "[CV] END ......................C=0.1, gamma=0.01, kernel=rbf; total time=   8.0s\n",
      "[CV] END ......................C=0.1, gamma=0.01, kernel=rbf; total time=   7.7s\n",
      "[CV] END ..................C=0.1, gamma=0.01, kernel=sigmoid; total time=   8.2s\n",
      "[CV] END ..................C=0.1, gamma=0.01, kernel=sigmoid; total time=   9.2s\n",
      "[CV] END ..................C=0.1, gamma=0.01, kernel=sigmoid; total time=   9.4s\n",
      "[CV] END ..................C=0.1, gamma=0.01, kernel=sigmoid; total time=  11.1s\n",
      "[CV] END ..................C=0.1, gamma=0.01, kernel=sigmoid; total time=  10.6s\n",
      "[CV] END ..................C=0.1, gamma=0.001, kernel=linear; total time=   4.5s\n",
      "[CV] END ..................C=0.1, gamma=0.001, kernel=linear; total time=   5.4s\n",
      "[CV] END ..................C=0.1, gamma=0.001, kernel=linear; total time=   4.5s\n",
      "[CV] END ..................C=0.1, gamma=0.001, kernel=linear; total time=   3.8s\n",
      "[CV] END ..................C=0.1, gamma=0.001, kernel=linear; total time=   3.9s\n",
      "[CV] END ....................C=0.1, gamma=0.001, kernel=poly; total time=   4.2s\n",
      "[CV] END ....................C=0.1, gamma=0.001, kernel=poly; total time=   4.1s\n",
      "[CV] END ....................C=0.1, gamma=0.001, kernel=poly; total time=   4.3s\n",
      "[CV] END ....................C=0.1, gamma=0.001, kernel=poly; total time=   4.3s\n",
      "[CV] END ....................C=0.1, gamma=0.001, kernel=poly; total time=   4.1s\n",
      "[CV] END .....................C=0.1, gamma=0.001, kernel=rbf; total time=   7.0s\n",
      "[CV] END .....................C=0.1, gamma=0.001, kernel=rbf; total time=   7.1s\n",
      "[CV] END .....................C=0.1, gamma=0.001, kernel=rbf; total time=   7.4s\n",
      "[CV] END .....................C=0.1, gamma=0.001, kernel=rbf; total time=   6.9s\n",
      "[CV] END .....................C=0.1, gamma=0.001, kernel=rbf; total time=   7.0s\n",
      "[CV] END .................C=0.1, gamma=0.001, kernel=sigmoid; total time=   8.0s\n",
      "[CV] END .................C=0.1, gamma=0.001, kernel=sigmoid; total time=   8.2s\n",
      "[CV] END .................C=0.1, gamma=0.001, kernel=sigmoid; total time=   8.2s\n",
      "[CV] END .................C=0.1, gamma=0.001, kernel=sigmoid; total time=   8.0s\n",
      "[CV] END .................C=0.1, gamma=0.001, kernel=sigmoid; total time=   8.2s\n",
      "[CV] END .................C=0.1, gamma=0.0001, kernel=linear; total time=   3.7s\n",
      "[CV] END .................C=0.1, gamma=0.0001, kernel=linear; total time=   3.8s\n",
      "[CV] END .................C=0.1, gamma=0.0001, kernel=linear; total time=   3.8s\n",
      "[CV] END .................C=0.1, gamma=0.0001, kernel=linear; total time=   3.9s\n",
      "[CV] END .................C=0.1, gamma=0.0001, kernel=linear; total time=   4.0s\n",
      "[CV] END ...................C=0.1, gamma=0.0001, kernel=poly; total time=   4.5s\n",
      "[CV] END ...................C=0.1, gamma=0.0001, kernel=poly; total time=   4.3s\n",
      "[CV] END ...................C=0.1, gamma=0.0001, kernel=poly; total time=   4.4s\n",
      "[CV] END ...................C=0.1, gamma=0.0001, kernel=poly; total time=   4.3s\n",
      "[CV] END ...................C=0.1, gamma=0.0001, kernel=poly; total time=   4.1s\n",
      "[CV] END ....................C=0.1, gamma=0.0001, kernel=rbf; total time=   7.0s\n",
      "[CV] END ....................C=0.1, gamma=0.0001, kernel=rbf; total time=   7.2s\n",
      "[CV] END ....................C=0.1, gamma=0.0001, kernel=rbf; total time=   7.4s\n",
      "[CV] END ....................C=0.1, gamma=0.0001, kernel=rbf; total time=   7.2s\n",
      "[CV] END ....................C=0.1, gamma=0.0001, kernel=rbf; total time=   7.0s\n",
      "[CV] END ................C=0.1, gamma=0.0001, kernel=sigmoid; total time=   8.0s\n",
      "[CV] END ................C=0.1, gamma=0.0001, kernel=sigmoid; total time=   8.0s\n",
      "[CV] END ................C=0.1, gamma=0.0001, kernel=sigmoid; total time=   8.1s\n",
      "[CV] END ................C=0.1, gamma=0.0001, kernel=sigmoid; total time=   7.9s\n",
      "[CV] END ........................C=1, gamma=1, kernel=linear; total time=   3.6s\n",
      "[CV] END ................C=0.1, gamma=0.0001, kernel=sigmoid; total time=   7.8s\n",
      "[CV] END ........................C=1, gamma=1, kernel=linear; total time=   4.0s\n",
      "[CV] END ........................C=1, gamma=1, kernel=linear; total time=   3.9s\n",
      "[CV] END ........................C=1, gamma=1, kernel=linear; total time=   3.7s\n",
      "[CV] END ........................C=1, gamma=1, kernel=linear; total time=   3.8s\n",
      "[CV] END ..........................C=1, gamma=1, kernel=poly; total time= 5.5min\n",
      "[CV] END ..........................C=1, gamma=1, kernel=poly; total time=11.6min\n",
      "[CV] END ..........................C=1, gamma=1, kernel=poly; total time= 7.8min\n",
      "[CV] END ..........................C=1, gamma=1, kernel=poly; total time= 5.4min\n",
      "[CV] END ...........................C=1, gamma=1, kernel=rbf; total time=   6.7s\n",
      "[CV] END ..........................C=1, gamma=1, kernel=poly; total time= 7.2min\n",
      "[CV] END ...........................C=1, gamma=1, kernel=rbf; total time=   7.0s\n",
      "[CV] END ...........................C=1, gamma=1, kernel=rbf; total time=   6.8s\n",
      "[CV] END ...........................C=1, gamma=1, kernel=rbf; total time=   7.2s\n",
      "[CV] END ...........................C=1, gamma=1, kernel=rbf; total time=   7.0s\n",
      "[CV] END .......................C=1, gamma=1, kernel=sigmoid; total time=   9.3s\n",
      "[CV] END .......................C=1, gamma=1, kernel=sigmoid; total time=   9.9s\n",
      "[CV] END .......................C=1, gamma=1, kernel=sigmoid; total time=   9.3s\n",
      "[CV] END .......................C=1, gamma=1, kernel=sigmoid; total time=   9.0s\n",
      "[CV] END ......................C=1, gamma=0.1, kernel=linear; total time=   3.4s\n",
      "[CV] END ......................C=1, gamma=0.1, kernel=linear; total time=   3.4s\n",
      "[CV] END .......................C=1, gamma=1, kernel=sigmoid; total time=   9.1s\n",
      "[CV] END ......................C=1, gamma=0.1, kernel=linear; total time=   3.7s\n",
      "[CV] END ......................C=1, gamma=0.1, kernel=linear; total time=   3.6s\n",
      "[CV] END ......................C=1, gamma=0.1, kernel=linear; total time=   3.7s\n",
      "[CV] END ........................C=1, gamma=0.1, kernel=poly; total time=   6.1s\n",
      "[CV] END ........................C=1, gamma=0.1, kernel=poly; total time=   6.0s\n",
      "[CV] END ........................C=1, gamma=0.1, kernel=poly; total time=   5.9s\n",
      "[CV] END ........................C=1, gamma=0.1, kernel=poly; total time=   5.9s\n",
      "[CV] END ........................C=1, gamma=0.1, kernel=poly; total time=   6.4s\n",
      "[CV] END .........................C=1, gamma=0.1, kernel=rbf; total time=   7.9s\n",
      "[CV] END .........................C=1, gamma=0.1, kernel=rbf; total time=   8.4s\n",
      "[CV] END .........................C=1, gamma=0.1, kernel=rbf; total time=   8.5s\n",
      "[CV] END .........................C=1, gamma=0.1, kernel=rbf; total time=   8.2s\n",
      "[CV] END .........................C=1, gamma=0.1, kernel=rbf; total time=   7.9s\n",
      "[CV] END .....................C=1, gamma=0.1, kernel=sigmoid; total time=  12.1s\n",
      "[CV] END .....................C=1, gamma=0.1, kernel=sigmoid; total time=  12.5s\n",
      "[CV] END .....................C=1, gamma=0.1, kernel=sigmoid; total time=  12.2s\n",
      "[CV] END .....................C=1, gamma=0.1, kernel=sigmoid; total time=  11.8s\n",
      "[CV] END .....................C=1, gamma=0.01, kernel=linear; total time=   3.5s\n",
      "[CV] END .....................C=1, gamma=0.01, kernel=linear; total time=   3.4s\n",
      "[CV] END .....................C=1, gamma=0.1, kernel=sigmoid; total time=  11.8s\n",
      "[CV] END .....................C=1, gamma=0.01, kernel=linear; total time=   3.7s\n",
      "[CV] END .....................C=1, gamma=0.01, kernel=linear; total time=   3.7s\n",
      "[CV] END .....................C=1, gamma=0.01, kernel=linear; total time=   3.7s\n",
      "[CV] END .......................C=1, gamma=0.01, kernel=poly; total time=   4.2s\n",
      "[CV] END .......................C=1, gamma=0.01, kernel=poly; total time=   4.2s\n",
      "[CV] END .......................C=1, gamma=0.01, kernel=poly; total time=   4.2s\n",
      "[CV] END .......................C=1, gamma=0.01, kernel=poly; total time=   4.1s\n",
      "[CV] END .......................C=1, gamma=0.01, kernel=poly; total time=   4.2s\n",
      "[CV] END ........................C=1, gamma=0.01, kernel=rbf; total time=   8.4s\n",
      "[CV] END ........................C=1, gamma=0.01, kernel=rbf; total time=   8.1s\n",
      "[CV] END ........................C=1, gamma=0.01, kernel=rbf; total time=   8.2s\n",
      "[CV] END ........................C=1, gamma=0.01, kernel=rbf; total time=   8.4s\n",
      "[CV] END ........................C=1, gamma=0.01, kernel=rbf; total time=   7.7s\n",
      "[CV] END ....................C=1, gamma=0.01, kernel=sigmoid; total time=  10.6s\n",
      "[CV] END ....................C=1, gamma=0.01, kernel=sigmoid; total time=  10.6s\n",
      "[CV] END ....................C=1, gamma=0.01, kernel=sigmoid; total time=  10.7s\n",
      "[CV] END ....................C=1, gamma=0.01, kernel=sigmoid; total time=  11.1s\n",
      "[CV] END ....................C=1, gamma=0.001, kernel=linear; total time=   3.5s\n",
      "[CV] END ....................C=1, gamma=0.01, kernel=sigmoid; total time=  10.5s\n",
      "[CV] END ....................C=1, gamma=0.001, kernel=linear; total time=   3.7s\n",
      "[CV] END ....................C=1, gamma=0.001, kernel=linear; total time=   3.7s\n",
      "[CV] END ....................C=1, gamma=0.001, kernel=linear; total time=   3.6s\n",
      "[CV] END ....................C=1, gamma=0.001, kernel=linear; total time=   3.7s\n",
      "[CV] END ......................C=1, gamma=0.001, kernel=poly; total time=   4.0s\n",
      "[CV] END ......................C=1, gamma=0.001, kernel=poly; total time=   4.1s\n",
      "[CV] END ......................C=1, gamma=0.001, kernel=poly; total time=   4.1s\n",
      "[CV] END ......................C=1, gamma=0.001, kernel=poly; total time=   4.2s\n",
      "[CV] END ......................C=1, gamma=0.001, kernel=poly; total time=   3.9s\n",
      "[CV] END .......................C=1, gamma=0.001, kernel=rbf; total time=   7.2s\n",
      "[CV] END .......................C=1, gamma=0.001, kernel=rbf; total time=   7.6s\n",
      "[CV] END .......................C=1, gamma=0.001, kernel=rbf; total time=   7.2s\n",
      "[CV] END .......................C=1, gamma=0.001, kernel=rbf; total time=   7.4s\n",
      "[CV] END .......................C=1, gamma=0.001, kernel=rbf; total time=   7.1s\n",
      "[CV] END ...................C=1, gamma=0.001, kernel=sigmoid; total time=   7.7s\n",
      "[CV] END ...................C=1, gamma=0.001, kernel=sigmoid; total time=   7.8s\n",
      "[CV] END ...................C=1, gamma=0.001, kernel=sigmoid; total time=   8.0s\n",
      "[CV] END ...................C=1, gamma=0.001, kernel=sigmoid; total time=   7.8s\n",
      "[CV] END ...................C=1, gamma=0.0001, kernel=linear; total time=   3.6s\n",
      "[CV] END ...................C=1, gamma=0.001, kernel=sigmoid; total time=   7.8s\n",
      "[CV] END ...................C=1, gamma=0.0001, kernel=linear; total time=   3.7s\n",
      "[CV] END ...................C=1, gamma=0.0001, kernel=linear; total time=   3.7s\n",
      "[CV] END ...................C=1, gamma=0.0001, kernel=linear; total time=   3.6s\n",
      "[CV] END ...................C=1, gamma=0.0001, kernel=linear; total time=   3.7s\n",
      "[CV] END .....................C=1, gamma=0.0001, kernel=poly; total time=   4.4s\n",
      "[CV] END .....................C=1, gamma=0.0001, kernel=poly; total time=   4.1s\n",
      "[CV] END .....................C=1, gamma=0.0001, kernel=poly; total time=   4.1s\n",
      "[CV] END .....................C=1, gamma=0.0001, kernel=poly; total time=   4.2s\n",
      "[CV] END .....................C=1, gamma=0.0001, kernel=poly; total time=   4.1s\n",
      "[CV] END ......................C=1, gamma=0.0001, kernel=rbf; total time=   6.7s\n",
      "[CV] END ......................C=1, gamma=0.0001, kernel=rbf; total time=   7.1s\n",
      "[CV] END ......................C=1, gamma=0.0001, kernel=rbf; total time=   7.0s\n",
      "[CV] END ......................C=1, gamma=0.0001, kernel=rbf; total time=   7.1s\n",
      "[CV] END ......................C=1, gamma=0.0001, kernel=rbf; total time=   6.8s\n",
      "[CV] END ..................C=1, gamma=0.0001, kernel=sigmoid; total time=   7.9s\n",
      "[CV] END ..................C=1, gamma=0.0001, kernel=sigmoid; total time=   7.9s\n",
      "[CV] END ..................C=1, gamma=0.0001, kernel=sigmoid; total time=   7.8s\n",
      "[CV] END ..................C=1, gamma=0.0001, kernel=sigmoid; total time=   7.9s\n",
      "[CV] END .......................C=10, gamma=1, kernel=linear; total time=   4.3s\n",
      "[CV] END ..................C=1, gamma=0.0001, kernel=sigmoid; total time=   7.7s\n",
      "[CV] END .......................C=10, gamma=1, kernel=linear; total time=   4.8s\n",
      "[CV] END .......................C=10, gamma=1, kernel=linear; total time=   4.9s\n",
      "[CV] END .......................C=10, gamma=1, kernel=linear; total time=   4.7s\n",
      "[CV] END .......................C=10, gamma=1, kernel=linear; total time=   4.7s\n"
     ]
    }
   ],
   "source": [
    "# Perform Grid Search\n",
    "grid_search = GridSearchCV(estimator=best_model, param_grid=param_grid, cv=5, n_jobs=-1, verbose=2)\n",
    "grid_search.fit(X_train, y_train)"
   ]
  },
  {
   "cell_type": "code",
   "execution_count": null,
   "id": "68aa7e12-9289-46fe-9222-a4350d35b81f",
   "metadata": {},
   "outputs": [
    {
     "ename": "NameError",
     "evalue": "name 'grid_search' is not defined",
     "output_type": "error",
     "traceback": [
      "\u001b[0;31m---------------------------------------------------------------------------\u001b[0m",
      "\u001b[0;31mNameError\u001b[0m                                 Traceback (most recent call last)",
      "Cell \u001b[0;32mIn[1], line 2\u001b[0m\n\u001b[1;32m      1\u001b[0m \u001b[38;5;66;03m# Display the best parameters\u001b[39;00m\n\u001b[0;32m----> 2\u001b[0m \u001b[38;5;28mprint\u001b[39m(\u001b[38;5;124m\"\u001b[39m\u001b[38;5;124mBest Parameters found: \u001b[39m\u001b[38;5;124m\"\u001b[39m, \u001b[43mgrid_search\u001b[49m\u001b[38;5;241m.\u001b[39mbest_params_)\n",
      "\u001b[0;31mNameError\u001b[0m: name 'grid_search' is not defined"
     ]
    }
   ],
   "source": [
    "# Display the best parameters\n",
    "print(\"Best Parameters found: \", grid_search.best_params_)"
   ]
  },
  {
   "cell_type": "code",
   "execution_count": null,
   "id": "762f5523-7c94-483b-bfee-5e08bdb62fd8",
   "metadata": {},
   "outputs": [],
   "source": [
    "# Evaluate the best model with optimized hyperparameters\n",
    "best_model = grid_search.best_estimator_\n",
    "evaluate_model(best_model, X_train, y_train, X_test, y_test)"
   ]
  },
  {
   "cell_type": "code",
   "execution_count": null,
   "id": "f14531fe-3c02-4894-aaa6-982e060c713d",
   "metadata": {},
   "outputs": [],
   "source": [
    "plt.figure(figsize=(8, 6))\n",
    "sns.heatmap(scores, annot=True, cmap='viridis')\n",
    "plt.title('Hyperparameter Tuning Results')\n",
    "plt.xlabel('Gamma')\n",
    "plt.ylabel('C')\n",
    "plt.show()"
   ]
  },
  {
   "cell_type": "code",
   "execution_count": null,
   "id": "f3d6e46e",
   "metadata": {},
   "outputs": [],
   "source": []
  }
 ],
 "metadata": {
  "kernelspec": {
   "display_name": "Python 3 (ipykernel)",
   "language": "python",
   "name": "python3"
  },
  "language_info": {
   "codemirror_mode": {
    "name": "ipython",
    "version": 3
   },
   "file_extension": ".py",
   "mimetype": "text/x-python",
   "name": "python",
   "nbconvert_exporter": "python",
   "pygments_lexer": "ipython3",
   "version": "3.10.13"
  }
 },
 "nbformat": 4,
 "nbformat_minor": 5
}
